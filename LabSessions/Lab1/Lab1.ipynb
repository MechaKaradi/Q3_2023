{
 "cells": [
  {
   "cell_type": "markdown",
   "id": "b56f31da-b753-4d57-9d5c-aa869382e81f",
   "metadata": {},
   "source": [
    "# SEN163A - Responsible Data Analytics\n",
    "## Lab session 1: Data collection, description and visualization\n",
    "### Delft University of Technology\n",
    "### Q3 2022\n",
    "\n",
    "**Instructor**: Dr. Ir. Jacopo De Stefani - J.deStefani@tudelft.nl\n",
    "\n",
    "**TAs**: Antonio Sanchez Martin - A.SanchezMartin@student.tudelft.nl\n",
    "\n",
    "### Instructions\n",
    "\n",
    "Lab session aim to:\n",
    "- Show and reinforce how models and ideas presented in class are put to practice.\n",
    "- Help you gather hands-on data analytics skills.\n",
    "\n",
    "Lab sessions are:\n",
    "\n",
    "- Learning environments where you work with Jupyter notebooks and where you can get support from TAs and fellow students.\n",
    "- Not graded and do not have to be submitted.\n",
    "- A good preparation for the assignments (which are graded).\n"
   ]
  },
  {
   "cell_type": "markdown",
   "id": "9a612d77-ccf8-488b-8c70-f25f21eb0ee3",
   "metadata": {},
   "source": [
    "### Application: Exploratory data analysis of a medical dataset\n",
    "\n",
    "In this lab session, we will explore different open data sources, data types and practice exploratory data analysis on an example dataset. \n",
    "The example dataset is an extract from a study relating the likelihood of experiencing a stroke, to both some physiological quantities (e.g. age, gender, glucose level) as well as contextual infomation (localization of the home, type of job).\n",
    "\n",
    "#### Learning objective. \n",
    "After completing the following exercises you will be able to:\n",
    "\n",
    "1. Explore different publicly available portals at different geografical levels. \n",
    "2. Import a data set from multiple sources using pandas.\n",
    "3. Describe a dataset using pandas.\n",
    "4. Visualise data and get preliminary insights using seaborn.\n"
   ]
  },
  {
   "cell_type": "markdown",
   "id": "59ab9114-de3e-442d-b920-30e915ff0023",
   "metadata": {},
   "source": [
    "# Data collection\n",
    "\n",
    "## Data sources\n",
    "\n",
    "### Global websites\n",
    "- Proprietary sources\n",
    "    - Kaggle\n",
    "    - Google Datasets\n",
    "    - …\n",
    "- Governmental sources\n",
    "    - EU: https://data.europa.eu/en\n",
    "    - US: https://www.data.gov/\n",
    "    - …\n",
    "- Academic sources\n",
    "    - UCI Machine Learning Repository\n",
    "    - …\n",
    "\n",
    "### National websites\n",
    "- Governmental sources\n",
    "    - https://opendata.cbs.nl/statline/portal.html?_la=en&_catalog=CBS\n",
    "    - https://data.overheid.nl/\n",
    "\n",
    "### Local websites\n",
    "- Governmental sources (NL only)\n",
    "    - https://www.zuid-holland.nl/politiek-bestuur/feiten-cijfers/open-data-0/\n",
    "    - https://data-delft.opendata.arcgis.com/\n",
    "\n",
    "## Scraping\n",
    "![WebServerWorkflow](figures/WebScraping.png)\n",
    "\n",
    "Scraping will not be dicussed in detail in the course, but more information can be found at (among others):\n",
    "\n",
    "- https://hirinfotech.com/what-is-web-scraping/\n",
    "- https://www.educative.io/blog/python-web-scraping-tutorial"
   ]
  },
  {
   "cell_type": "markdown",
   "id": "d70860e5-f7ea-4632-90a3-c069f1fd8356",
   "metadata": {},
   "source": [
    "## Activity 1 - Data sources\n",
    "\n",
    "Explore the different data sources to find a dataset which is particularly relevant to you. If this seems overwhelming, you can have a look in the `example` folder for some pre-selected examples.\n",
    "\n",
    "Try to answer the following questions:\n",
    "\n",
    "- In which format is the found dataset?\n",
    "- Which computer application can you use to open this data?\n",
    "- Is it structured or unstructured data?\n"
   ]
  },
  {
   "cell_type": "markdown",
   "id": "8700abd6-1514-4341-85cd-c6631a869806",
   "metadata": {},
   "source": [
    "Write your answers here"
   ]
  },
  {
   "cell_type": "code",
   "execution_count": null,
   "id": "2fef546c-0b5d-46ae-966b-0ff7f3adf51a",
   "metadata": {},
   "outputs": [],
   "source": [
    "# CODE YOUR ANSWERS HERE (Use as many cells as you need)"
   ]
  },
  {
   "cell_type": "markdown",
   "id": "48508d36-a169-4971-8635-6c88251d32f8",
   "metadata": {},
   "source": [
    "## Activity 2 - Data formats\n",
    "\n",
    "We are now going to try to import different data types (`.csv`,`.xlsx`,`.json`,`.zip`) in Python.\n",
    "\n",
    "1. Have a look at the documentation of the [Pandas](https://pandas.pydata.org/) library (and specifically the `read_` functions) in order to determine how to use it.\n",
    "2. Try to use these function to read the datasets from the `data/examples` folder into your Python code.\n"
   ]
  },
  {
   "cell_type": "code",
   "execution_count": null,
   "id": "7e1605b7-2dac-4bd8-8145-413d048ebc68",
   "metadata": {},
   "outputs": [],
   "source": [
    "# CODE YOUR ANSWERS HERE (Use as many cells as you need)"
   ]
  },
  {
   "cell_type": "markdown",
   "id": "07e8cfb1-a1ca-406f-8d78-a5413b258c8a",
   "metadata": {},
   "source": [
    "## Activity 3 - Dataset summarization\n",
    "\n",
    "Let's start the analysis of the medical dataset (XLS format).\n",
    "\n",
    "### Context\n",
    "\n",
    "According to the World Health Organization (WHO) stroke is the 2nd leading cause of death globally, responsible for approximately 11% of total deaths.\n",
    "This dataset is used to predict whether a patient is likely to get stroke based on the input parameters like gender, age, various diseases, and smoking status. Each row in the data provides relavant information about the patient.\n",
    "\n",
    "### Attributes Information\n",
    "\n",
    "1) id: unique identifier\n",
    "2) gender: \"Male\", \"Female\" or \"Other\"\n",
    "3) age: age of the patient\n",
    "4) hypertension: 0 if the patient doesn't have hypertension, 1 if the patient has hypertension\n",
    "5) heart_disease: 0 if the patient doesn't have any heart diseases, 1 if the patient has a heart disease\n",
    "6) ever_married: \"No\" or \"Yes\"\n",
    "7) work_type: \"children\", \"Govt_jov\", \"Never_worked\", \"Private\" or \"Self-employed\"\n",
    "8) Residence_type: \"Rural\" or \"Urban\"\n",
    "9) avg_glucose_level: average glucose level in blood\n",
    "10) bmi: body mass index\n",
    "11) smoking_status: \"formerly smoked\", \"never smoked\", \"smokes\" or \"Unknown\"*\n",
    "12) stroke: 1 if the patient had a stroke or 0 if not\n",
    "*Note: \"Unknown\" in smoking_status means that the information is unavailable for this patient\n",
    "\n",
    "### Acknowledgements\n",
    "\n",
    "(Confidential Source) - Use only for educational purposes\n",
    "\n",
    "\n",
    "### Tasks\n",
    "\n",
    "1. Store it in a Python variable as a Pandas DataFrame.\n",
    "2. Use the Pandas built-in functions (`info, describe, value_counts, nunique`) to provide a summary of the dataset.\n",
    "    - Does the columns contain any missing values?\n",
    "    - What are the types of the columns? Categorical, Numerical, Ordinal?\n",
    "3. Try to select the first 100 lines/samples/datapoints of the dataset.\n",
    "4. Try to select the first 5 columns/features of the dataset."
   ]
  },
  {
   "cell_type": "code",
   "execution_count": null,
   "id": "5c364ac5-4274-4e3c-99ea-6dbcb7b329df",
   "metadata": {},
   "outputs": [],
   "source": [
    "# CODE YOUR ANSWERS HERE (Use as many cells as you need)"
   ]
  },
  {
   "cell_type": "markdown",
   "id": "2815cc0d-ea58-4a9c-9ab1-7d9f4ef63923",
   "metadata": {},
   "source": [
    "## Activity 4 - Variable analysis\n",
    "\n",
    "We are going to use the `pandas` library to perform some exploratory understanding of the data.\n",
    "\n",
    "1. Load the dataset in the `stroke_df` variable\n",
    "2. Display the content of the `stroke_df` variable\n",
    "3. What are the type of the different columns? Use the knowledge from `pandas` to determine the type.\n"
   ]
  },
  {
   "cell_type": "code",
   "execution_count": null,
   "id": "d0c18b4e-930c-48ed-a501-d1fd3012298b",
   "metadata": {},
   "outputs": [],
   "source": [
    "# CODE YOUR ANSWERS HERE (Use as many cells as you need)"
   ]
  },
  {
   "cell_type": "markdown",
   "id": "07ddae53-113c-4bbd-9d6c-94efe0c2663e",
   "metadata": {},
   "source": [
    "## Activity 5 - Visualization\n",
    "\n",
    "Two type of variables can be found in this dataset:\n",
    "- Numeric: `int64` and `float64`\n",
    "- Categorical: `object`\n",
    "\n",
    "We are going to use the `seaborn` library to perform some exploratory visualizations.\n",
    "Have a look at the documentation of the [Seaborn](https://seaborn.pydata.org/) library and the Gallery to get some inspiration for some plots.\n",
    "\n",
    "According to the type of variables, different visualizatons can be used:\n",
    "\n",
    "- Numeric - Numeric: Scatterplot\n",
    "- (Numeric - Categorical)/(Categorical - Numeric): Boxplot, Scatterplot, Violin plot\n",
    "\n",
    "1. Try to answer to some of these questions using the [Seaborn](https://seaborn.pydata.org/) library:\n",
    "    1) Who has more strokes between Male/Female?\n",
    "    2) People of which age group are more likely to get a stroke?\n",
    "    3) Is hypertension a cause?\n",
    "    4) Is A person with heart disease more likely to get a stroke ?\n",
    "    5) May Marriage be a cause of strokes ?\n",
    "    6) Are people working in private jobs the majority of people with strokes (mostly because of stress) ?\n",
    "    7) Do people living in urban areas have more chances of getting stroke?\n",
    "    8) Are glucose levels a symptom of stroke ? Or of a pathology, such as obesity, leading to stroke ?\n",
    "    9) What is the relationship between BMI, age and gender?\n",
    "    10) Are people who smoke more likely to get a stroke ?\n",
    "    \n",
    "2. Provide additional visualizations you deem relevant for the problem at hand using [Seaborn](https://seaborn.pydata.org/)\n",
    "\n",
    "Make sure to:\n",
    "- Think carefully about the data types of the different variables while determining the suitable plots, before diving into the actual code\n",
    "- Respect the best practices in terms of plot readability (axis naming, ticks naming, proper scaling)"
   ]
  },
  {
   "cell_type": "code",
   "execution_count": null,
   "id": "72ea30ab-a791-4ff2-a1b0-7af73652c883",
   "metadata": {},
   "outputs": [],
   "source": [
    "# CODE YOUR ANSWERS HERE (Use as many cells as you need)"
   ]
  }
 ],
 "metadata": {
  "kernelspec": {
   "display_name": "Python 3 (ipykernel)",
   "language": "python",
   "name": "python3"
  },
  "language_info": {
   "codemirror_mode": {
    "name": "ipython",
    "version": 3
   },
   "file_extension": ".py",
   "mimetype": "text/x-python",
   "name": "python",
   "nbconvert_exporter": "python",
   "pygments_lexer": "ipython3",
   "version": "3.10.2"
  }
 },
 "nbformat": 4,
 "nbformat_minor": 5
}
